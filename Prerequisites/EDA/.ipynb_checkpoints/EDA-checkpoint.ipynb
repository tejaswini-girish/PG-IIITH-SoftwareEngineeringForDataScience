{
 "cells": [
  {
   "cell_type": "code",
   "execution_count": 5,
   "id": "f374a41b",
   "metadata": {},
   "outputs": [
    {
     "data": {
      "text/plain": [
       "62.1"
      ]
     },
     "execution_count": 5,
     "metadata": {},
     "output_type": "execute_result"
    }
   ],
   "source": [
    "import statistics\n",
    "\n",
    "numbers_list = [55, 56, 56, 58, 60, 61, 63, 64, 70, 78]\n",
    "sum(numbers_list)/len(numbers_list)"
   ]
  },
  {
   "cell_type": "code",
   "execution_count": 7,
   "id": "333700b4",
   "metadata": {},
   "outputs": [
    {
     "data": {
      "text/plain": [
       "56"
      ]
     },
     "execution_count": 7,
     "metadata": {},
     "output_type": "execute_result"
    }
   ],
   "source": [
    "statistics.mode(numbers_list)"
   ]
  },
  {
   "cell_type": "code",
   "execution_count": 10,
   "id": "7acd620f",
   "metadata": {},
   "outputs": [
    {
     "data": {
      "text/plain": [
       "count    10.000000\n",
       "mean     14.900000\n",
       "std       9.290975\n",
       "min       0.000000\n",
       "25%      11.250000\n",
       "50%      17.000000\n",
       "75%      19.750000\n",
       "max      30.000000\n",
       "dtype: float64"
      ]
     },
     "execution_count": 10,
     "metadata": {},
     "output_type": "execute_result"
    }
   ],
   "source": [
    "import pandas as pd\n",
    "import math\n",
    "import numpy\n",
    "\n",
    "x = [1,12,20,11,0,15,19,22,19,30]\n",
    "ser = pd.Series(x)\n",
    "\n",
    "ser.describe()"
   ]
  },
  {
   "cell_type": "code",
   "execution_count": null,
   "id": "59f211c3",
   "metadata": {},
   "outputs": [],
   "source": []
  }
 ],
 "metadata": {
  "kernelspec": {
   "display_name": "Python 3 (ipykernel)",
   "language": "python",
   "name": "python3"
  },
  "language_info": {
   "codemirror_mode": {
    "name": "ipython",
    "version": 3
   },
   "file_extension": ".py",
   "mimetype": "text/x-python",
   "name": "python",
   "nbconvert_exporter": "python",
   "pygments_lexer": "ipython3",
   "version": "3.11.3"
  }
 },
 "nbformat": 4,
 "nbformat_minor": 5
}
