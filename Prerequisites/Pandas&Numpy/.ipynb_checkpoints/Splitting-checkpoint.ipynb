{
 "cells": [
  {
   "cell_type": "markdown",
   "metadata": {
    "colab": {},
    "colab_type": "code",
    "id": "Q6Ub9n6MWtS3"
   },
   "source": [
    "#### 1. Write a code to divide the array into three sub-arrays containing an equal number of rows"
   ]
  },
  {
   "cell_type": "markdown",
   "metadata": {
    "colab_type": "text",
    "id": "-zF54fW_XL4c"
   },
   "source": [
    "Use the array given below:\n",
    "\n",
    "A = [[4, 7], [2, -3], [8, 1], [0, 9], [5,-1], [8, 3]]"
   ]
  },
  {
   "cell_type": "code",
   "execution_count": 2,
   "metadata": {},
   "outputs": [
    {
     "data": {
      "text/plain": [
       "[array([[ 4,  7],\n",
       "        [ 2, -3]]),\n",
       " array([[8, 1],\n",
       "        [0, 9]]),\n",
       " array([[ 5, -1],\n",
       "        [ 8,  3]])]"
      ]
     },
     "execution_count": 2,
     "metadata": {},
     "output_type": "execute_result"
    }
   ],
   "source": [
    "import numpy as np\n",
    "A = [[4, 7], [2, -3], [8, 1], [0, 9], [5,-1], [8, 3]]\n",
    "A = np.array(A)\n",
    "\n",
    "\n",
    "\n",
    "# split the array into 3 sub-arrays containing two rows each\n",
    "np.split(A,3)\n"
   ]
  },
  {
   "cell_type": "markdown",
   "metadata": {
    "colab_type": "text",
    "id": "MpoaWn19XdQh"
   },
   "source": [
    "\t\n",
    "#### 2.  Write a program to divide the array into two sub-arrays containing an equal number of columns"
   ]
  },
  {
   "cell_type": "markdown",
   "metadata": {
    "colab_type": "text",
    "id": "I1ZyUyKkXi3d"
   },
   "source": [
    "Use the array given below:\n",
    "\n",
    "B = [[8, 7, 0, 9], [2, -3, 5, 10], [8, 5, -1,3]]"
   ]
  },
  {
   "cell_type": "code",
   "execution_count": 4,
   "metadata": {},
   "outputs": [
    {
     "data": {
      "text/plain": [
       "[array([[ 8,  7],\n",
       "        [ 2, -3],\n",
       "        [ 8,  5]]),\n",
       " array([[ 0,  9],\n",
       "        [ 5, 10],\n",
       "        [-1,  3]])]"
      ]
     },
     "execution_count": 4,
     "metadata": {},
     "output_type": "execute_result"
    }
   ],
   "source": [
    "B = [[8, 7, 0, 9], [2, -3, 5, 10], [8, 5, -1,3]]\n",
    "B = np.array(B)\n",
    "\n",
    "\n",
    "\n",
    "# split the array into two sub-arrays containing two rows each\n",
    "np.split(B,2, axis=1)"
   ]
  },
  {
   "cell_type": "code",
   "execution_count": null,
   "metadata": {},
   "outputs": [],
   "source": []
  }
 ],
 "metadata": {
  "colab": {
   "collapsed_sections": [],
   "name": "Numpy.ipynb",
   "provenance": []
  },
  "kernelspec": {
   "display_name": "Python 3 (ipykernel)",
   "language": "python",
   "name": "python3"
  },
  "language_info": {
   "codemirror_mode": {
    "name": "ipython",
    "version": 3
   },
   "file_extension": ".py",
   "mimetype": "text/x-python",
   "name": "python",
   "nbconvert_exporter": "python",
   "pygments_lexer": "ipython3",
   "version": "3.11.3"
  }
 },
 "nbformat": 4,
 "nbformat_minor": 1
}
