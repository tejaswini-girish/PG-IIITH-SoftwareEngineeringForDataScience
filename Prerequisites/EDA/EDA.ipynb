{
 "cells": [
  {
   "cell_type": "code",
   "execution_count": 5,
   "id": "f374a41b",
   "metadata": {},
   "outputs": [
    {
     "data": {
      "text/plain": [
       "62.1"
      ]
     },
     "execution_count": 5,
     "metadata": {},
     "output_type": "execute_result"
    }
   ],
   "source": [
    "import statistics\n",
    "\n",
    "numbers_list = [55, 56, 56, 58, 60, 61, 63, 64, 70, 78]\n",
    "sum(numbers_list)/len(numbers_list)"
   ]
  },
  {
   "cell_type": "code",
   "execution_count": 7,
   "id": "333700b4",
   "metadata": {},
   "outputs": [
    {
     "data": {
      "text/plain": [
       "56"
      ]
     },
     "execution_count": 7,
     "metadata": {},
     "output_type": "execute_result"
    }
   ],
   "source": [
    "statistics.mode(numbers_list)"
   ]
  },
  {
   "cell_type": "code",
   "execution_count": 5,
   "id": "7acd620f",
   "metadata": {},
   "outputs": [
    {
     "data": {
      "text/plain": [
       "count    10.000000\n",
       "mean     62.100000\n",
       "std       7.202623\n",
       "min      55.000000\n",
       "25%      56.500000\n",
       "50%      60.500000\n",
       "75%      63.750000\n",
       "max      78.000000\n",
       "dtype: float64"
      ]
     },
     "execution_count": 5,
     "metadata": {},
     "output_type": "execute_result"
    }
   ],
   "source": [
    "import pandas as pd\n",
    "import math\n",
    "import numpy\n",
    "\n",
    "x = [55, 56, 56, 58, 60, 61, 63, 64, 70, 78]\n",
    "ser = pd.Series(x)\n",
    "\n",
    "ser.describe()\n"
   ]
  },
  {
   "cell_type": "code",
   "execution_count": 6,
   "id": "59f211c3",
   "metadata": {},
   "outputs": [],
   "source": [
    "##This dataset is creted for prediction of Graduate Admissions\n",
    "\n",
    "import pandas as pd\n",
    "import numpy as np\n",
    "import matplotlib.pyplot as plt\n"
   ]
  },
  {
   "cell_type": "code",
   "execution_count": null,
   "id": "2eb23e86",
   "metadata": {},
   "outputs": [],
   "source": []
  }
 ],
 "metadata": {
  "kernelspec": {
   "display_name": "Python 3 (ipykernel)",
   "language": "python",
   "name": "python3"
  },
  "language_info": {
   "codemirror_mode": {
    "name": "ipython",
    "version": 3
   },
   "file_extension": ".py",
   "mimetype": "text/x-python",
   "name": "python",
   "nbconvert_exporter": "python",
   "pygments_lexer": "ipython3",
   "version": "3.11.3"
  }
 },
 "nbformat": 4,
 "nbformat_minor": 5
}
